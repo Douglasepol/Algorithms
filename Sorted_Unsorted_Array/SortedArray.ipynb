{
  "nbformat": 4,
  "nbformat_minor": 0,
  "metadata": {
    "colab": {
      "provenance": [],
      "authorship_tag": "ABX9TyPHcDYy/qL5kQTOAKnKYKBq",
      "include_colab_link": true
    },
    "kernelspec": {
      "name": "python3",
      "display_name": "Python 3"
    },
    "language_info": {
      "name": "python"
    }
  },
  "cells": [
    {
      "cell_type": "markdown",
      "metadata": {
        "id": "view-in-github",
        "colab_type": "text"
      },
      "source": [
        "<a href=\"https://colab.research.google.com/github/Douglasepol/Algorithms/blob/main/Sorted_Unsorted_Array/SortedArray.ipynb\" target=\"_parent\"><img src=\"https://colab.research.google.com/assets/colab-badge.svg\" alt=\"Open In Colab\"/></a>"
      ]
    },
    {
      "cell_type": "code",
      "execution_count": null,
      "metadata": {
        "id": "C8OUe3saTm9q"
      },
      "outputs": [],
      "source": [
        "import numpy as np"
      ]
    },
    {
      "cell_type": "code",
      "source": [
        "class SortedArray:\n",
        "  '''\n",
        "    The algorithm can finish anytime in case it didn't find the item\n",
        "  '''\n",
        "  def __init__(self, capacity):\n",
        "    self.capacity = capacity\n",
        "    self.last_position = -1\n",
        "    self.values = np.empty(self.capacity, dtype=int)\n",
        "\n",
        "\n",
        "  # O(n)\n",
        "  def show(self):\n",
        "    if self.last_position == -1:\n",
        "      print('The array is empty')\n",
        "    else:\n",
        "      for i in range(self.last_position + 1):\n",
        "        print(i, ' - ', self.values[i])\n",
        "\n",
        "\n",
        "  # O(n)\n",
        "  def insert(self, value):\n",
        "    if self.last_position == self.capacity - 1:\n",
        "      print('The array is full')\n",
        "      return\n",
        "\n",
        "    #position to add a new value\n",
        "    position = 0\n",
        "    for i in range(self.last_position + 1):\n",
        "      position = i\n",
        "      if self.values[i] > value:\n",
        "        break\n",
        "      if i == self.last_position:\n",
        "        position = i + 1\n",
        "\n",
        "    # need to rlocate the elements over the array backwards.\n",
        "    # note that there won't be a case where we try to access a position beyond the maximum limit,\n",
        "    # because the array would have to be full to do so.\n",
        "    x = self.last_position\n",
        "    while x >= position:\n",
        "      self.values[x+1] = self.values[x]\n",
        "      x -= 1\n",
        "\n",
        "    self.values[position] = value\n",
        "    self.last_position += 1\n",
        "\n",
        "\n",
        "  # O(n)\n",
        "  def search(self, value):\n",
        "    for i in range(self.last_position + 1):\n",
        "      if self.values[i] > value:\n",
        "        return -1\n",
        "      if self.values[i] == value:\n",
        "        return i\n",
        "      if i == self.last_position:\n",
        "        return -1\n",
        "\n",
        "\n",
        "  def delete(self, value):\n",
        "    position = self.search(value)\n",
        "    if position == -1:\n",
        "      return -1\n",
        "    else:\n",
        "      for i in range(position, self.last_position):\n",
        "        self.values[i] = self.values[i+1]\n",
        "\n",
        "      self.last_position -= 1"
      ],
      "metadata": {
        "id": "mMxuHfEIToy-"
      },
      "execution_count": null,
      "outputs": []
    },
    {
      "cell_type": "code",
      "source": [
        "array = SortedArray(5)\n",
        "array.show()"
      ],
      "metadata": {
        "colab": {
          "base_uri": "https://localhost:8080/"
        },
        "id": "cBIAaka9iAbO",
        "outputId": "9f4cb096-a489-43c9-b8c4-973f12fe7c41"
      },
      "execution_count": null,
      "outputs": [
        {
          "output_type": "stream",
          "name": "stdout",
          "text": [
            "The array is empty\n"
          ]
        }
      ]
    },
    {
      "cell_type": "code",
      "source": [
        "array.insert(6)\n",
        "array.show()"
      ],
      "metadata": {
        "colab": {
          "base_uri": "https://localhost:8080/"
        },
        "id": "glFBdWBViJYR",
        "outputId": "a6a4d7ac-00ba-4b14-820e-a0a8abe796dc"
      },
      "execution_count": null,
      "outputs": [
        {
          "output_type": "stream",
          "name": "stdout",
          "text": [
            "0  -  6\n"
          ]
        }
      ]
    },
    {
      "cell_type": "code",
      "source": [
        "array.insert(4)\n",
        "array.show()"
      ],
      "metadata": {
        "colab": {
          "base_uri": "https://localhost:8080/"
        },
        "id": "uKPtAr98iNz6",
        "outputId": "55465f2f-3e03-4f71-d188-45362bc9f99c"
      },
      "execution_count": null,
      "outputs": [
        {
          "output_type": "stream",
          "name": "stdout",
          "text": [
            "0  -  4\n",
            "1  -  6\n"
          ]
        }
      ]
    },
    {
      "cell_type": "code",
      "source": [
        "array.insert(3)\n",
        "array.show()"
      ],
      "metadata": {
        "colab": {
          "base_uri": "https://localhost:8080/"
        },
        "id": "ezaqM6BqiQGM",
        "outputId": "00d20dd2-0227-4466-9bd5-7d5d1a677006"
      },
      "execution_count": null,
      "outputs": [
        {
          "output_type": "stream",
          "name": "stdout",
          "text": [
            "0  -  3\n",
            "1  -  4\n",
            "2  -  6\n"
          ]
        }
      ]
    },
    {
      "cell_type": "code",
      "source": [
        "array.insert(5)\n",
        "array.show()"
      ],
      "metadata": {
        "colab": {
          "base_uri": "https://localhost:8080/"
        },
        "id": "V4_qgSF8iQDo",
        "outputId": "506400c0-d188-4080-80e1-6dd05c7e0891"
      },
      "execution_count": null,
      "outputs": [
        {
          "output_type": "stream",
          "name": "stdout",
          "text": [
            "0  -  3\n",
            "1  -  4\n",
            "2  -  5\n",
            "3  -  6\n"
          ]
        }
      ]
    },
    {
      "cell_type": "code",
      "source": [
        "array.insert(1)\n",
        "array.show()"
      ],
      "metadata": {
        "colab": {
          "base_uri": "https://localhost:8080/"
        },
        "id": "z3peN9D3iQBZ",
        "outputId": "665225ab-1498-4152-9753-ea74a40baf24"
      },
      "execution_count": null,
      "outputs": [
        {
          "output_type": "stream",
          "name": "stdout",
          "text": [
            "0  -  1\n",
            "1  -  3\n",
            "2  -  4\n",
            "3  -  5\n",
            "4  -  6\n"
          ]
        }
      ]
    },
    {
      "cell_type": "code",
      "source": [
        "array.insert(8)\n",
        "array.show()"
      ],
      "metadata": {
        "colab": {
          "base_uri": "https://localhost:8080/"
        },
        "id": "nAkptyTpiP_N",
        "outputId": "c81ee670-f991-475b-99a7-4d05bdc784da"
      },
      "execution_count": null,
      "outputs": [
        {
          "output_type": "stream",
          "name": "stdout",
          "text": [
            "The array is full\n",
            "0  -  1\n",
            "1  -  3\n",
            "2  -  4\n",
            "3  -  5\n",
            "4  -  6\n"
          ]
        }
      ]
    },
    {
      "cell_type": "code",
      "source": [
        "array.search(5)"
      ],
      "metadata": {
        "colab": {
          "base_uri": "https://localhost:8080/"
        },
        "id": "u2KxiYm1iP8s",
        "outputId": "ba8cc23e-2e00-4a9f-def4-73553bf3b068"
      },
      "execution_count": null,
      "outputs": [
        {
          "output_type": "execute_result",
          "data": {
            "text/plain": [
              "3"
            ]
          },
          "metadata": {},
          "execution_count": 27
        }
      ]
    },
    {
      "cell_type": "code",
      "source": [
        "array.search(8)"
      ],
      "metadata": {
        "colab": {
          "base_uri": "https://localhost:8080/"
        },
        "id": "FMnjJ6Zpj2Do",
        "outputId": "69902b7a-7493-45db-ab20-adee155a6416"
      },
      "execution_count": null,
      "outputs": [
        {
          "output_type": "execute_result",
          "data": {
            "text/plain": [
              "-1"
            ]
          },
          "metadata": {},
          "execution_count": 28
        }
      ]
    },
    {
      "cell_type": "code",
      "source": [
        "array.search(2)"
      ],
      "metadata": {
        "colab": {
          "base_uri": "https://localhost:8080/"
        },
        "id": "LCd2-46vj2_W",
        "outputId": "71285d91-7a1b-4500-ccec-58f9159d956e"
      },
      "execution_count": null,
      "outputs": [
        {
          "output_type": "execute_result",
          "data": {
            "text/plain": [
              "-1"
            ]
          },
          "metadata": {},
          "execution_count": 29
        }
      ]
    },
    {
      "cell_type": "code",
      "source": [
        "array.search(9)"
      ],
      "metadata": {
        "colab": {
          "base_uri": "https://localhost:8080/"
        },
        "id": "2nfNvPvtj8YP",
        "outputId": "221db4f9-3180-4408-e21f-cef17b2ba50d"
      },
      "execution_count": null,
      "outputs": [
        {
          "output_type": "execute_result",
          "data": {
            "text/plain": [
              "-1"
            ]
          },
          "metadata": {},
          "execution_count": 30
        }
      ]
    },
    {
      "cell_type": "code",
      "source": [
        "array.delete(5)\n",
        "array.show()"
      ],
      "metadata": {
        "colab": {
          "base_uri": "https://localhost:8080/"
        },
        "id": "azijP_-HlNjj",
        "outputId": "8eb21ca8-d58c-4b22-c54d-4f58efe0054a"
      },
      "execution_count": null,
      "outputs": [
        {
          "output_type": "stream",
          "name": "stdout",
          "text": [
            "0  -  1\n",
            "1  -  3\n",
            "2  -  4\n",
            "3  -  6\n"
          ]
        }
      ]
    },
    {
      "cell_type": "code",
      "source": [
        "array.delete(1)\n",
        "array.show()"
      ],
      "metadata": {
        "colab": {
          "base_uri": "https://localhost:8080/"
        },
        "id": "Iv0XrU15lNhK",
        "outputId": "2a5b9dcc-9772-46eb-fada-cc5374cea576"
      },
      "execution_count": null,
      "outputs": [
        {
          "output_type": "stream",
          "name": "stdout",
          "text": [
            "0  -  3\n",
            "1  -  4\n",
            "2  -  6\n"
          ]
        }
      ]
    },
    {
      "cell_type": "code",
      "source": [
        "array.delete(8)\n",
        "array.show()"
      ],
      "metadata": {
        "colab": {
          "base_uri": "https://localhost:8080/"
        },
        "id": "2UsfXswnlNet",
        "outputId": "c2c4fa68-b98e-42d0-c66d-e98fc52f255f"
      },
      "execution_count": null,
      "outputs": [
        {
          "output_type": "stream",
          "name": "stdout",
          "text": [
            "0  -  3\n",
            "1  -  4\n",
            "2  -  6\n"
          ]
        }
      ]
    },
    {
      "cell_type": "code",
      "source": [
        "array.delete(9)\n",
        "array.show()"
      ],
      "metadata": {
        "colab": {
          "base_uri": "https://localhost:8080/"
        },
        "id": "3clC1fk2lNcZ",
        "outputId": "decc5d9f-92ac-4294-cda6-0979649fc43a"
      },
      "execution_count": null,
      "outputs": [
        {
          "output_type": "stream",
          "name": "stdout",
          "text": [
            "0  -  3\n",
            "1  -  4\n",
            "2  -  6\n"
          ]
        }
      ]
    }
  ]
}
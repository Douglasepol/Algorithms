{
  "nbformat": 4,
  "nbformat_minor": 0,
  "metadata": {
    "colab": {
      "provenance": [],
      "authorship_tag": "ABX9TyNTL2OQAi+9akKS6nCJaN1E",
      "include_colab_link": true
    },
    "kernelspec": {
      "name": "python3",
      "display_name": "Python 3"
    },
    "language_info": {
      "name": "python"
    }
  },
  "cells": [
    {
      "cell_type": "markdown",
      "metadata": {
        "id": "view-in-github",
        "colab_type": "text"
      },
      "source": [
        "<a href=\"https://colab.research.google.com/github/Douglasepol/Algorithms/blob/main/Sorted_Unsorted_Array/UnsortedArray.ipynb\" target=\"_parent\"><img src=\"https://colab.research.google.com/assets/colab-badge.svg\" alt=\"Open In Colab\"/></a>"
      ]
    },
    {
      "cell_type": "code",
      "source": [
        "import numpy as np"
      ],
      "metadata": {
        "id": "gQ8og3gNtbEU"
      },
      "execution_count": null,
      "outputs": []
    },
    {
      "cell_type": "code",
      "execution_count": null,
      "metadata": {
        "id": "Yfv1aflctSNV"
      },
      "outputs": [],
      "source": [
        "class UnsortedArray:\n",
        "  def __init__(self, capacity):\n",
        "    '''\n",
        "      In this implementation case the total capacity it's not dynamic.\n",
        "\n",
        "      This algorithm could be called as Unsorted List.\n",
        "      But in this case the data struture from numpy is an Array.\n",
        "    '''\n",
        "    self.capacity = capacity\n",
        "    self.last_position = -1\n",
        "    self.values = np.empty(self.capacity, dtype=int)\n",
        "\n",
        "  # O(n)\n",
        "  def show(self):\n",
        "    if self.last_position == -1:\n",
        "      print('The array is empty')\n",
        "    else:\n",
        "      for i in range(self.last_position + 1):\n",
        "        print(i, ' - ', self.values[i])\n",
        "\n",
        "  # O(1) - O(2)\n",
        "  def insert(self, value):\n",
        "    if self.last_position == self.capacity - 1:\n",
        "      print('The array is full')\n",
        "    else:\n",
        "      self.last_position += 1\n",
        "      self.values[self.last_position] = value\n",
        "\n",
        "  # O(n)\n",
        "  def search(self, value):\n",
        "    for i in range(self.last_position + 1):\n",
        "      if value == self.values[i]:\n",
        "        return i\n",
        "    return -1\n",
        "\n",
        "  # O(n)\n",
        "  def delete(self, value):\n",
        "    position = self.search(value)\n",
        "    if position == -1:\n",
        "      return -1\n",
        "    else:\n",
        "      for i in range(position, self.last_position):\n",
        "        self.values[i] = self.values[i+1]\n",
        "      self.last_position -= 1"
      ]
    },
    {
      "cell_type": "code",
      "source": [
        "array = UnsortedArray(5)"
      ],
      "metadata": {
        "id": "Sj0fqDxHuspQ"
      },
      "execution_count": null,
      "outputs": []
    },
    {
      "cell_type": "code",
      "source": [
        "array.show()"
      ],
      "metadata": {
        "colab": {
          "base_uri": "https://localhost:8080/"
        },
        "id": "U29MM2b-us-c",
        "outputId": "cc5de5fe-05f3-48a8-d059-e1769ce6e8b0"
      },
      "execution_count": null,
      "outputs": [
        {
          "output_type": "stream",
          "name": "stdout",
          "text": [
            "The array is empty\n"
          ]
        }
      ]
    },
    {
      "cell_type": "code",
      "source": [
        "array.insert(3)"
      ],
      "metadata": {
        "id": "6ozbl-glzk_i"
      },
      "execution_count": null,
      "outputs": []
    },
    {
      "cell_type": "code",
      "source": [
        "array.show()"
      ],
      "metadata": {
        "colab": {
          "base_uri": "https://localhost:8080/"
        },
        "id": "yV9Up3Ztzynb",
        "outputId": "d42f43ee-2841-43e4-c7dd-751bb49d1882"
      },
      "execution_count": null,
      "outputs": [
        {
          "output_type": "stream",
          "name": "stdout",
          "text": [
            "0  -  3\n"
          ]
        }
      ]
    },
    {
      "cell_type": "code",
      "source": [
        "array.insert(2)\n",
        "array.insert(5)\n",
        "array.insert(8)\n",
        "array.insert(7)"
      ],
      "metadata": {
        "id": "EvgbDpoWz5gD"
      },
      "execution_count": null,
      "outputs": []
    },
    {
      "cell_type": "code",
      "source": [
        "array.show()"
      ],
      "metadata": {
        "colab": {
          "base_uri": "https://localhost:8080/"
        },
        "id": "IOp19lZw0D0L",
        "outputId": "1d082395-b061-4547-a400-524788ab77a7"
      },
      "execution_count": null,
      "outputs": [
        {
          "output_type": "stream",
          "name": "stdout",
          "text": [
            "0  -  3\n",
            "1  -  2\n",
            "2  -  5\n",
            "3  -  8\n",
            "4  -  7\n"
          ]
        }
      ]
    },
    {
      "cell_type": "code",
      "source": [
        "array.insert(9)"
      ],
      "metadata": {
        "colab": {
          "base_uri": "https://localhost:8080/"
        },
        "id": "u7EkHgKZ0PTq",
        "outputId": "e46d84a0-33d8-46a5-dd7a-27e0dac63c8a"
      },
      "execution_count": null,
      "outputs": [
        {
          "output_type": "stream",
          "name": "stdout",
          "text": [
            "The array is full\n"
          ]
        }
      ]
    },
    {
      "cell_type": "code",
      "source": [
        "array.show()"
      ],
      "metadata": {
        "colab": {
          "base_uri": "https://localhost:8080/"
        },
        "id": "In19XrJK096d",
        "outputId": "7ceec4a8-f856-49ab-fd1a-84de4e81fdb3"
      },
      "execution_count": null,
      "outputs": [
        {
          "output_type": "stream",
          "name": "stdout",
          "text": [
            "0  -  3\n",
            "1  -  2\n",
            "2  -  5\n",
            "3  -  8\n",
            "4  -  7\n"
          ]
        }
      ]
    },
    {
      "cell_type": "code",
      "source": [
        "array.search(7)"
      ],
      "metadata": {
        "colab": {
          "base_uri": "https://localhost:8080/"
        },
        "id": "RSGFdQZU1EIX",
        "outputId": "6aab705f-6b9c-4e13-c5c7-40547819b23d"
      },
      "execution_count": null,
      "outputs": [
        {
          "output_type": "execute_result",
          "data": {
            "text/plain": [
              "4"
            ]
          },
          "metadata": {},
          "execution_count": 11
        }
      ]
    },
    {
      "cell_type": "code",
      "source": [
        "array.delete(2)\n",
        "array.show()"
      ],
      "metadata": {
        "colab": {
          "base_uri": "https://localhost:8080/"
        },
        "id": "-RgYJpKO5ePq",
        "outputId": "9770ab86-84dd-4c48-fd76-285a5fdc6e90"
      },
      "execution_count": null,
      "outputs": [
        {
          "output_type": "stream",
          "name": "stdout",
          "text": [
            "0  -  3\n",
            "1  -  5\n",
            "2  -  8\n",
            "3  -  7\n"
          ]
        }
      ]
    },
    {
      "cell_type": "code",
      "source": [
        "array.delete(5)\n",
        "array.show()"
      ],
      "metadata": {
        "colab": {
          "base_uri": "https://localhost:8080/"
        },
        "id": "-XK9Gfn55eNY",
        "outputId": "4cc887b4-48e6-454d-dd42-9cd586a7150b"
      },
      "execution_count": null,
      "outputs": [
        {
          "output_type": "stream",
          "name": "stdout",
          "text": [
            "0  -  3\n",
            "1  -  8\n",
            "2  -  7\n"
          ]
        }
      ]
    },
    {
      "cell_type": "code",
      "source": [
        "array.delete(7)\n",
        "array.show()"
      ],
      "metadata": {
        "colab": {
          "base_uri": "https://localhost:8080/"
        },
        "id": "Bw4-38HN5eLC",
        "outputId": "f52981f0-e50a-4ad7-de16-1222822bf6d4"
      },
      "execution_count": null,
      "outputs": [
        {
          "output_type": "stream",
          "name": "stdout",
          "text": [
            "0  -  3\n",
            "1  -  8\n"
          ]
        }
      ]
    },
    {
      "cell_type": "code",
      "source": [
        "array.delete(3)\n",
        "array.show()"
      ],
      "metadata": {
        "colab": {
          "base_uri": "https://localhost:8080/"
        },
        "id": "oAk0oBN15eI9",
        "outputId": "23ec420d-e08c-43f3-fb53-9627c4334d06"
      },
      "execution_count": null,
      "outputs": [
        {
          "output_type": "stream",
          "name": "stdout",
          "text": [
            "0  -  8\n"
          ]
        }
      ]
    },
    {
      "cell_type": "code",
      "source": [],
      "metadata": {
        "id": "QmOzQHHG5eGa"
      },
      "execution_count": null,
      "outputs": []
    },
    {
      "cell_type": "code",
      "source": [
        "for i in range(5, 7):\n",
        "  print(i)"
      ],
      "metadata": {
        "colab": {
          "base_uri": "https://localhost:8080/"
        },
        "id": "l6uOSRHb5eCc",
        "outputId": "914ba471-92eb-4486-8157-08a7a2d2c30e"
      },
      "execution_count": null,
      "outputs": [
        {
          "output_type": "stream",
          "name": "stdout",
          "text": [
            "5\n",
            "6\n"
          ]
        }
      ]
    },
    {
      "cell_type": "code",
      "source": [],
      "metadata": {
        "id": "C24G8pkm5d_t"
      },
      "execution_count": null,
      "outputs": []
    }
  ]
}